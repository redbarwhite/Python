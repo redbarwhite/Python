{
 "cells": [
  {
   "cell_type": "markdown",
   "id": "16d24625",
   "metadata": {},
   "source": [
    "# using while "
   ]
  },
  {
   "cell_type": "code",
   "execution_count": null,
   "id": "8a8f8597",
   "metadata": {},
   "outputs": [],
   "source": [
    "num = int(input('Enter a number: '))\n",
    "sum = 0\n",
    "i = 0\n",
    "while i <= num:\n",
    "    if i % 2 == 0:\n",
    "        print(i)\n",
    "        sum+=i\n",
    "    i+=1\n",
    "print(f\"Sum of all the even numbers is {sum}\")"
   ]
  },
  {
   "cell_type": "markdown",
   "id": "88aca93a",
   "metadata": {},
   "source": [
    "## using for loop"
   ]
  },
  {
   "cell_type": "code",
   "execution_count": null,
   "id": "624ba110",
   "metadata": {},
   "outputs": [],
   "source": [
    "num = int(input('Enter a number: '))\n",
    "sum = 0\n",
    "for i in range(0, num+1):\n",
    "    if i % 2 == 0:\n",
    "        print(i)\n",
    "        sum+=i\n",
    "\n",
    "print(f\"Sum of all the even numbers is {sum}\")"
   ]
  },
  {
   "cell_type": "code",
   "execution_count": null,
   "id": "2f6711b9",
   "metadata": {},
   "outputs": [],
   "source": [
    "for even_numbers in range(4,2,15):\n",
    "    \n",
    "    print(even_numbers,end=' ')"
   ]
  },
  {
   "cell_type": "code",
   "execution_count": null,
   "id": "68643335",
   "metadata": {},
   "outputs": [],
   "source": [
    "x=[i for i in range(4,15+1) if i%2==0]\n",
    "print(*x)"
   ]
  },
  {
   "cell_type": "markdown",
   "id": "fd1fd0a8",
   "metadata": {},
   "source": [
    "https://www.geeksforgeeks.org/python-program-to-print-all-even-numbers-in-a-range/"
   ]
  },
  {
   "cell_type": "code",
   "execution_count": null,
   "id": "d0508b58",
   "metadata": {},
   "outputs": [],
   "source": []
  }
 ],
 "metadata": {
  "kernelspec": {
   "display_name": "Python 3 (ipykernel)",
   "language": "python",
   "name": "python3"
  },
  "language_info": {
   "codemirror_mode": {
    "name": "ipython",
    "version": 3
   },
   "file_extension": ".py",
   "mimetype": "text/x-python",
   "name": "python",
   "nbconvert_exporter": "python",
   "pygments_lexer": "ipython3",
   "version": "3.9.7"
  }
 },
 "nbformat": 4,
 "nbformat_minor": 5
}
