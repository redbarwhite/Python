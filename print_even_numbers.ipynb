{
 "cells": [
  {
   "cell_type": "markdown",
   "id": "d9ebbeb5",
   "metadata": {},
   "source": [
    "# using while "
   ]
  },
  {
   "cell_type": "code",
   "execution_count": 2,
   "id": "6a2d507d",
   "metadata": {},
   "outputs": [
    {
     "name": "stdout",
     "output_type": "stream",
     "text": [
      "Enter a number: 3\n",
      "0\n",
      "2\n",
      "Sum of all the even numbers is 2\n"
     ]
    }
   ],
   "source": [
    "num = int(input('Enter a number: '))\n",
    "sum = 0\n",
    "i = 0\n",
    "while i <= num:\n",
    "    if i % 2 == 0:\n",
    "        print(i)\n",
    "        sum+=i\n",
    "    i+=1\n",
    "print(f\"Sum of all the even numbers is {sum}\")"
   ]
  },
  {
   "cell_type": "markdown",
   "id": "7f658895",
   "metadata": {},
   "source": [
    "## using for loop"
   ]
  },
  {
   "cell_type": "code",
   "execution_count": 3,
   "id": "12523e66",
   "metadata": {},
   "outputs": [
    {
     "name": "stdout",
     "output_type": "stream",
     "text": [
      "Enter a number: 5\n",
      "0\n",
      "2\n",
      "4\n",
      "Sum of all the even numbers is 6\n"
     ]
    }
   ],
   "source": [
    "num = int(input('Enter a number: '))\n",
    "sum = 0\n",
    "for i in range(0, num+1):\n",
    "    if i % 2 == 0:\n",
    "        print(i)\n",
    "        sum+=i\n",
    "\n",
    "print(f\"Sum of all the even numbers is {sum}\")"
   ]
  },
  {
   "cell_type": "code",
   "execution_count": 4,
   "id": "c67ae226",
   "metadata": {},
   "outputs": [],
   "source": [
    "for even_numbers in range(4,2,15):\n",
    "    \n",
    "    print(even_numbers,end=' ')"
   ]
  },
  {
   "cell_type": "code",
   "execution_count": 6,
   "id": "3e36f813",
   "metadata": {},
   "outputs": [
    {
     "name": "stdout",
     "output_type": "stream",
     "text": [
      "4 6 8 10 12 14\n"
     ]
    }
   ],
   "source": [
    "x=[i for i in range(4,15+1) if i%2==0]\n",
    "print(*x)"
   ]
  },
  {
   "cell_type": "markdown",
   "id": "7d29ac0b",
   "metadata": {},
   "source": [
    "https://www.geeksforgeeks.org/python-program-to-print-all-even-numbers-in-a-range/"
   ]
  },
  {
   "cell_type": "code",
   "execution_count": null,
   "id": "978eecb9",
   "metadata": {},
   "outputs": [],
   "source": []
  }
 ],
 "metadata": {
  "kernelspec": {
   "display_name": "Python 3 (ipykernel)",
   "language": "python",
   "name": "python3"
  },
  "language_info": {
   "codemirror_mode": {
    "name": "ipython",
    "version": 3
   },
   "file_extension": ".py",
   "mimetype": "text/x-python",
   "name": "python",
   "nbconvert_exporter": "python",
   "pygments_lexer": "ipython3",
   "version": "3.9.7"
  }
 },
 "nbformat": 4,
 "nbformat_minor": 5
}
